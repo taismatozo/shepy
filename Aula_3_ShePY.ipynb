{
  "nbformat": 4,
  "nbformat_minor": 0,
  "metadata": {
    "colab": {
      "name": "Aula 3-ShePY.ipynb",
      "provenance": [],
      "authorship_tag": "ABX9TyNG/mzrTOHTUyuQNborVpdj",
      "include_colab_link": true
    },
    "kernelspec": {
      "name": "python3",
      "display_name": "Python 3"
    },
    "language_info": {
      "name": "python"
    }
  },
  "cells": [
    {
      "cell_type": "markdown",
      "metadata": {
        "id": "view-in-github",
        "colab_type": "text"
      },
      "source": [
        "<a href=\"https://colab.research.google.com/github/taismatozo/shepy/blob/main/Aula_3_ShePY.ipynb\" target=\"_parent\"><img src=\"https://colab.research.google.com/assets/colab-badge.svg\" alt=\"Open In Colab\"/></a>"
      ]
    },
    {
      "cell_type": "markdown",
      "metadata": {
        "id": "XUFy00yjwUpr"
      },
      "source": [
        ""
      ]
    },
    {
      "cell_type": "markdown",
      "metadata": {
        "id": "ipHKE6t3ygG-"
      },
      "source": [
        "#Estruturas condicionais em python\n",
        "\n",
        "**if:** estrutura que permite avaliar uma expressão e, de acordo com seu resultado, executar uma determinada ação.\n",
        "\n",
        "\n",
        "**else:** caso a condiçãoavaliada com if não seja atendida, definimos um fluxo alternativo que o código deve seguir.\n",
        "\n",
        "**elif:**\n",
        "contração de else/if que torna mais claro o tratamento de várias alternativas, encadeando condições.\n"
      ]
    },
    {
      "cell_type": "code",
      "metadata": {
        "colab": {
          "base_uri": "https://localhost:8080/"
        },
        "id": "GcTojtVZ1FLf",
        "outputId": "45580c29-d8a9-438b-fbe1-d17d4af32849"
      },
      "source": [
        "nota = int(input('digite uma nota: '))\n",
        "\n",
        "if nota >= 8:\n",
        "  print('aprovada satisfatóriamente.')\n",
        "print ('fim')\n"
      ],
      "execution_count": null,
      "outputs": [
        {
          "output_type": "stream",
          "text": [
            "digite uma nota: 7\n",
            "fim\n"
          ],
          "name": "stdout"
        }
      ]
    },
    {
      "cell_type": "code",
      "metadata": {
        "colab": {
          "base_uri": "https://localhost:8080/"
        },
        "id": "MUEw6l-h3j8A",
        "outputId": "13938c90-0715-460a-e166-6675d93e4631"
      },
      "source": [
        "nota = int(input('digite uma nota: '))\n",
        "\n",
        "if nota >= 8:\n",
        "  print('aprovada satisfatóriamente.')\n",
        "else: \n",
        "  print('Não aprovada.')\n",
        "print ('fim')"
      ],
      "execution_count": null,
      "outputs": [
        {
          "output_type": "stream",
          "text": [
            "digite uma nota: 10\n",
            "aprovada satisfatóriamente.\n",
            "fim\n"
          ],
          "name": "stdout"
        }
      ]
    },
    {
      "cell_type": "code",
      "metadata": {
        "colab": {
          "base_uri": "https://localhost:8080/"
        },
        "id": "1VVuZYTZ4L_W",
        "outputId": "c8bb5754-c67d-47ec-f8fe-31d15e05aa95"
      },
      "source": [
        "nota = int(input('digite uma nota: '))\n",
        "\n",
        "if nota >= 8:\n",
        "  print('aprovada satisfatóriamente.')\n",
        "elif nota == 7:\n",
        "  print('aprovada.')\n",
        "else: \n",
        "  print('Não aprovada.')\n",
        "print ('fim')"
      ],
      "execution_count": null,
      "outputs": [
        {
          "output_type": "stream",
          "text": [
            "digite uma nota: 6\n",
            "Não aprovada.\n",
            "fim\n"
          ],
          "name": "stdout"
        }
      ]
    },
    {
      "cell_type": "markdown",
      "metadata": {
        "id": "e_xRHATj6DUD"
      },
      "source": [
        "**Jogo de adivinhar**: Escreva um programa que faça o computador pensar em um numero inteiro entre 0 e 10 e peça para o usuário tentar descobrir qual foi o número escolhido pelo computador. O programa deverá escrever na tela se o usuário venceu ou perdeu."
      ]
    },
    {
      "cell_type": "code",
      "metadata": {
        "colab": {
          "base_uri": "https://localhost:8080/"
        },
        "id": "9lRuwcTg6eQ7",
        "outputId": "1fa13387-fdd3-4e47-fcf8-410722a94769"
      },
      "source": [
        "from random import randint\n",
        "\n",
        "computador = randint (0, 10)\n",
        "print('vamos jogar um jogo! tente advinhar o número que estou pensando: de 0 a 10')\n",
        "\n",
        "jogador = int(input('Qual o número eu pensei? '))\n",
        "\n",
        "if jogador == computador:\n",
        "  print('acertou. shantey you stay!!')\n",
        "\n",
        "else:\n",
        "  print('Errou. Sashay away!')\n",
        "print('número certo:')\n",
        "print(computador)\n"
      ],
      "execution_count": null,
      "outputs": [
        {
          "output_type": "stream",
          "text": [
            "vamos jogar um jogo! tente advinhar o número que estou pensando: de 0 a 10\n",
            "Qual o número eu pensei? 5\n",
            "Errou. Sashay away!\n",
            "número certo:\n",
            "8\n"
          ],
          "name": "stdout"
        }
      ]
    },
    {
      "cell_type": "markdown",
      "metadata": {
        "id": "0rZvjPXR9TcD"
      },
      "source": [
        "##Desafio para as alunas:\n",
        "desenvolva um program que pergunta de uma viagem em Km (float).\n",
        "Calcule o preço da passagem, sobrando 0,6 reais para viagens ate 100Km, cobrando 0,5 reais para viagens até 300Km e 0,4 reais para viagens mais longas"
      ]
    },
    {
      "cell_type": "code",
      "metadata": {
        "colab": {
          "base_uri": "https://localhost:8080/"
        },
        "id": "uHUzKKSM9y6H",
        "outputId": "bc4d7dfa-f04e-459d-c604-24e0b0631f82"
      },
      "source": [
        "km = float(input('km percorridos na viagem'))\n",
        "if km <= 100:\n",
        "  passagem = km * 0.6\n",
        "\n",
        "elif km > 100 and km <= 300:\n",
        "  passagem = km * 0.5\n",
        "\n",
        "else:\n",
        "  passagem = km * 0.4\n",
        "\n",
        "print('valor da passagem {}'.format(passagem))\n",
        "  \n"
      ],
      "execution_count": null,
      "outputs": [
        {
          "output_type": "stream",
          "text": [
            "km percorridos na viagem200\n",
            "valor da passagem 100.0\n"
          ],
          "name": "stdout"
        }
      ]
    },
    {
      "cell_type": "code",
      "metadata": {
        "colab": {
          "base_uri": "https://localhost:8080/"
        },
        "id": "EpYkKhhu9HnL",
        "outputId": "41230e1e-9b15-4bbc-9ad1-8f668b1fe17e"
      },
      "source": [
        "from random import choice\n",
        "\n",
        "jogador = str(input('escolha entre Pedra, Papel ou Tesoura')).capitalize()\n",
        "\n",
        "lista = ['Pedra', 'Papel', 'Tesoura']\n",
        "\n",
        "computador = choice(lista)\n",
        "\n",
        "print('vc jogou {}'.format(jogador))\n",
        "\n",
        "\n",
        "print('computador jogou {}'.format(computador))\n",
        "\n",
        "if computador == 'Pedra':\n",
        "  if jogador == 'Pedra':\n",
        "    print('Empate.')\n",
        "  elif jogador == 'Papel':\n",
        "    print('você ganhou')\n",
        "  elif jogador == 'Tesoura':\n",
        "    print('você perdeu.')\n",
        "\n",
        "if computador == 'Papel':\n",
        "  if jogador == 'Pedra':\n",
        "    print('você venceu')\n",
        "  elif jogador == 'Papel':\n",
        "    print('empate')\n",
        "  elif jogador == 'Tesoura':\n",
        "    print('você venceu.')\n",
        "\n",
        "if computador == 'Tesoura':\n",
        "  if jogador == 'Pedra':\n",
        "    print('você perdeu')\n",
        "  elif jogador == 'Papel':\n",
        "    print('você perdeu')\n",
        "  elif jogador == 'Tesoura':\n",
        "    print('empate.')\n",
        "\n",
        "else:\n",
        "  print('jogada inválida')\n"
      ],
      "execution_count": null,
      "outputs": [
        {
          "output_type": "stream",
          "text": [
            "escolha entre Pedra, Papel ou Tesourapedra\n",
            "vc jogou Pedra\n",
            "computador jogou Tesoura\n",
            "você perdeu\n"
          ],
          "name": "stdout"
        }
      ]
    },
    {
      "cell_type": "markdown",
      "metadata": {
        "id": "kGz4iIW6Hjfg"
      },
      "source": [
        "## estruturas de repetição\n",
        "\n",
        "**while**\n",
        "o while é o comando utilizado para programar repetições no python baseadas na avaliação de uma condição.\n",
        "Enquanto a condição for verdadeira, o bloco de comandos interno ao while é repetido, quando se torna falsa, o bloco de comandos deixa de repetir"
      ]
    },
    {
      "cell_type": "code",
      "metadata": {
        "colab": {
          "base_uri": "https://localhost:8080/"
        },
        "id": "cahZ-oCKIQCK",
        "outputId": "a48d02a6-9a83-4738-e7b3-efa02802d003"
      },
      "source": [
        "lista_pessoas = []\n",
        "\n",
        "nome = str(input('Digite um nome '))\n",
        "\n",
        "while nome != 'fim':\n",
        "  lista_pessoas.append(nome)\n",
        "  nome = str(input('digite um nome: '))\n",
        "\n",
        "print('nomes digitados:')\n",
        "print(lista_pessoas)"
      ],
      "execution_count": null,
      "outputs": [
        {
          "output_type": "stream",
          "text": [
            "Digite um nome Taís\n",
            "digite um nome: Karen\n",
            "digite um nome: chloe\n",
            "digite um nome: fim\n",
            "nomes digitados:\n",
            "['Taís', 'Karen', 'chloe']\n"
          ],
          "name": "stdout"
        }
      ]
    },
    {
      "cell_type": "code",
      "metadata": {
        "colab": {
          "base_uri": "https://localhost:8080/"
        },
        "id": "1ksOuHuxJrzg",
        "outputId": "4d321867-bffe-4ad6-b646-2c0e2e6decfc"
      },
      "source": [
        "lista_pessoas = []\n",
        "cont = 0\n",
        "\n",
        "nome = str(input('digite um nome: '))\n",
        "\n",
        "while cont < 5:\n",
        "  lista_pessoas.append(nome)\n",
        "  nome = str(input('digite um nome: '))\n",
        "  cont = cont + 1\n",
        "\n",
        "print('nomes digitados')\n",
        "print(lista_pessoas)"
      ],
      "execution_count": null,
      "outputs": [
        {
          "output_type": "stream",
          "text": [
            "digite um nome: taís\n",
            "digite um nome: karen\n",
            "digite um nome: chloe\n",
            "digite um nome: noah\n",
            "digite um nome: bernado\n",
            "digite um nome: luna\n",
            "nomes digitados\n",
            "['taís', 'karen', 'chloe', 'noah', 'bernado']\n"
          ],
          "name": "stdout"
        }
      ]
    },
    {
      "cell_type": "markdown",
      "metadata": {
        "id": "1eyb6QUbKrN5"
      },
      "source": [
        "##For\n",
        "O laço for nos permite percorrer os itens d uma coleção e para cada um deles executar o código declarado no laço."
      ]
    },
    {
      "cell_type": "code",
      "metadata": {
        "colab": {
          "base_uri": "https://localhost:8080/"
        },
        "id": "IXjG8a_pLDXZ",
        "outputId": "788a816a-f6ba-4232-eced-9270e5df5c12"
      },
      "source": [
        "lista_n = [1, 6, 9, 16, 20]\n",
        "\n",
        "for num in lista_n:\n",
        "  print(num)"
      ],
      "execution_count": null,
      "outputs": [
        {
          "output_type": "stream",
          "text": [
            "1\n",
            "6\n",
            "9\n",
            "16\n",
            "20\n"
          ],
          "name": "stdout"
        }
      ]
    },
    {
      "cell_type": "code",
      "metadata": {
        "colab": {
          "base_uri": "https://localhost:8080/"
        },
        "id": "jYgb302-LWoD",
        "outputId": "6a684e71-7059-4ba2-a4f1-446453c5af60"
      },
      "source": [
        "for num in lista_n:\n",
        "  if num % 2 == 0:\n",
        "    print('{} é par'.format(num))\n",
        "  else:\n",
        "    print('{} é impar'.format(num))"
      ],
      "execution_count": null,
      "outputs": [
        {
          "output_type": "stream",
          "text": [
            "1 é impar\n",
            "6 é par\n",
            "9 é impar\n",
            "16 é par\n",
            "20 é par\n"
          ],
          "name": "stdout"
        }
      ]
    },
    {
      "cell_type": "code",
      "metadata": {
        "colab": {
          "base_uri": "https://localhost:8080/"
        },
        "id": "YPjdgMsOMKy2",
        "outputId": "98e2f381-9e60-409c-d371-08c9ed633b0b"
      },
      "source": [
        "num =int(input('digite um número que seja imprimir a taboada'))\n",
        "\n",
        "for mult in range(1, 11):\n",
        "  print('{} x {} = {}'.format(num, mult, num*mult))"
      ],
      "execution_count": null,
      "outputs": [
        {
          "output_type": "stream",
          "text": [
            "digite um número que seja imprimir a taboada4\n",
            "4 x 1 = 4\n",
            "4 x 2 = 8\n",
            "4 x 3 = 12\n",
            "4 x 4 = 16\n",
            "4 x 5 = 20\n",
            "4 x 6 = 24\n",
            "4 x 7 = 28\n",
            "4 x 8 = 32\n",
            "4 x 9 = 36\n",
            "4 x 10 = 40\n"
          ],
          "name": "stdout"
        }
      ]
    },
    {
      "cell_type": "markdown",
      "metadata": {
        "id": "tXefgvt0M3-g"
      },
      "source": [
        "## Funções:\n",
        "Funções são trechos de códigos que podem ser executados em momentos diferentes dos nossos códigos em python.\n",
        "\n",
        "```\n",
        "def nome_da_função()\n",
        "\n",
        "  comandos da função\n",
        "```\n"
      ]
    },
    {
      "cell_type": "code",
      "metadata": {
        "id": "khlPl5AxNT5h"
      },
      "source": [
        "def soma(a, b):\n",
        "  s = a + b\n",
        "  print(s)"
      ],
      "execution_count": null,
      "outputs": []
    },
    {
      "cell_type": "code",
      "metadata": {
        "colab": {
          "base_uri": "https://localhost:8080/"
        },
        "id": "cuuGs7S8M2LF",
        "outputId": "b350fee4-54a6-4d03-e7c8-e87396610357"
      },
      "source": [
        "soma(2, 4)"
      ],
      "execution_count": null,
      "outputs": [
        {
          "output_type": "stream",
          "text": [
            "6\n"
          ],
          "name": "stdout"
        }
      ]
    },
    {
      "cell_type": "markdown",
      "metadata": {
        "id": "qlmM1NnBOZJ7"
      },
      "source": [
        "### DESAFIO: \n",
        "Faça um programa que tenha uma função chamada area(), que receba as dimensões de um terreno retangular (largura e comprimento) e mostre a área do terreno seguindo o exemplo:\n",
        "- 'A largura selecionada é de 5m e o comprimento é de 5m, sendo a área: 25m²'"
      ]
    },
    {
      "cell_type": "code",
      "metadata": {
        "id": "RYlfORLPOaKy"
      },
      "source": [
        "def area(largura, comprimento):\n",
        "  area = (largura * comprimento)\n",
        "  print(area)\n"
      ],
      "execution_count": null,
      "outputs": []
    },
    {
      "cell_type": "code",
      "metadata": {
        "colab": {
          "base_uri": "https://localhost:8080/"
        },
        "id": "7c0RWm8FOyA9",
        "outputId": "e093ea6f-f978-47f4-f993-c4ff2b059c2f"
      },
      "source": [
        "area (5, 5)"
      ],
      "execution_count": null,
      "outputs": [
        {
          "output_type": "stream",
          "text": [
            "25\n"
          ],
          "name": "stdout"
        }
      ]
    }
  ]
}