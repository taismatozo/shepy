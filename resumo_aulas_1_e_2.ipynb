{
  "nbformat": 4,
  "nbformat_minor": 0,
  "metadata": {
    "colab": {
      "name": "resumo aulas 1 e 2.ipynb",
      "provenance": [],
      "authorship_tag": "ABX9TyNeo4KePLWkOTjyMtC8h+Ea",
      "include_colab_link": true
    },
    "kernelspec": {
      "name": "python3",
      "display_name": "Python 3"
    },
    "language_info": {
      "name": "python"
    }
  },
  "cells": [
    {
      "cell_type": "markdown",
      "metadata": {
        "id": "view-in-github",
        "colab_type": "text"
      },
      "source": [
        "<a href=\"https://colab.research.google.com/github/taismatozo/shepy/blob/main/resumo_aulas_1_e_2.ipynb\" target=\"_parent\"><img src=\"https://colab.research.google.com/assets/colab-badge.svg\" alt=\"Open In Colab\"/></a>"
      ]
    },
    {
      "cell_type": "code",
      "metadata": {
        "id": "hBJ2dlpkqYOV"
      },
      "source": [
        ""
      ],
      "execution_count": null,
      "outputs": []
    },
    {
      "cell_type": "markdown",
      "metadata": {
        "id": "j_60MXpIqluY"
      },
      "source": [
        "##Tipos de dados\n",
        "- - Numéricos\n",
        "\n",
        "- Inteiros (int)\n",
        "- Reais (float)\n",
        "\n",
        "- - Não númerico\n",
        "- Texto (string, str)\n",
        "-lógico (bool) true or false;\n",
        "\n",
        "Regras:\n",
        "\n",
        "O python diferencia letras maiúsculas e minúsculas"
      ]
    },
    {
      "cell_type": "markdown",
      "metadata": {
        "id": "8AVS73WsrQuj"
      },
      "source": [
        "##Variáveis e identificadores\n",
        "Variáveis são locais onde armazenamos valores na memória. De modo geral, as variáveis são elementos básicos na programação que armazenam os dados que precisamos no nosso algoritmo.\n",
        "\n",
        "Toda variável será caracterizada por um nome (que a identifica em um programa) e por um tipo.\n",
        "\n",
        "Identificador é um nome dado para variáveis, constantes e funções.\n",
        "\n",
        "Em Python, um identificador pode conter apenas:\n",
        "\n",
        "- Letras de A a Z (maiúsculas e minúsculas)\n",
        "- Os dígitos de 0 a 9\n",
        "- O símbolo underscore _\n",
        "- Regras para identificadores em Python:\n",
        "\n",
        "O identificador deve começar obrigatoriamente com uma letra ou underscore.\n",
        "Não deve conter espaços, caracteres especiais ou letras acentuadas.\n",
        "Python faz diferenciação entre maiúsculas e minúsculas."
      ]
    },
    {
      "cell_type": "code",
      "metadata": {
        "id": "DevpUv3LrkLe"
      },
      "source": [
        ""
      ],
      "execution_count": null,
      "outputs": []
    },
    {
      "cell_type": "code",
      "metadata": {
        "id": "JOa_1kKy6MXP",
        "colab": {
          "base_uri": "https://localhost:8080/"
        },
        "outputId": "b3f9186d-6e1e-453d-d3bd-1ba5e3ef62a9"
      },
      "source": [
        "print('hello!')"
      ],
      "execution_count": null,
      "outputs": [
        {
          "output_type": "stream",
          "text": [
            "hello!\n"
          ],
          "name": "stdout"
        }
      ]
    },
    {
      "cell_type": "code",
      "metadata": {
        "id": "7j2YJfPxCi4v"
      },
      "source": [
        "nome = 'Taís'"
      ],
      "execution_count": null,
      "outputs": []
    },
    {
      "cell_type": "code",
      "metadata": {
        "colab": {
          "base_uri": "https://localhost:8080/"
        },
        "id": "G210iuL2Cv1u",
        "outputId": "d7e9a9ce-e042-41f0-b4b5-ed6934aad892"
      },
      "source": [
        "print('Hello, world')"
      ],
      "execution_count": null,
      "outputs": [
        {
          "output_type": "stream",
          "text": [
            "Hello, world\n"
          ],
          "name": "stdout"
        }
      ]
    },
    {
      "cell_type": "code",
      "metadata": {
        "colab": {
          "base_uri": "https://localhost:8080/"
        },
        "id": "Gxksraq1C6FV",
        "outputId": "85f07c1b-18a0-4f97-bbab-6d14dc114a70"
      },
      "source": [
        "mensagem = 'hello, world'\n",
        "print(mensagem)"
      ],
      "execution_count": null,
      "outputs": [
        {
          "output_type": "stream",
          "text": [
            "hello, world\n"
          ],
          "name": "stdout"
        }
      ]
    },
    {
      "cell_type": "code",
      "metadata": {
        "colab": {
          "base_uri": "https://localhost:8080/"
        },
        "id": "iLu-v2EkDP9A",
        "outputId": "258a7d2a-c467-4b1d-e440-ca1f25bb4153"
      },
      "source": [
        "type(mensagem)"
      ],
      "execution_count": null,
      "outputs": [
        {
          "output_type": "execute_result",
          "data": {
            "text/plain": [
              "str"
            ]
          },
          "metadata": {
            "tags": []
          },
          "execution_count": 8
        }
      ]
    },
    {
      "cell_type": "code",
      "metadata": {
        "colab": {
          "base_uri": "https://localhost:8080/"
        },
        "id": "uHKOnwywDT5p",
        "outputId": "929d9aa0-f6f8-4ec0-f6f6-fda0c3cbe73c"
      },
      "source": [
        "print(mensagem,'estou aprendendo a programar')"
      ],
      "execution_count": null,
      "outputs": [
        {
          "output_type": "stream",
          "text": [
            "hello, world estou aprendendo a programar\n"
          ],
          "name": "stdout"
        }
      ]
    },
    {
      "cell_type": "code",
      "metadata": {
        "colab": {
          "base_uri": "https://localhost:8080/"
        },
        "id": "1G88DolUEj29",
        "outputId": "bcf3d03b-eec0-4d32-d5bd-17b896fd934f"
      },
      "source": [
        "print('hello,', nome,'!')"
      ],
      "execution_count": null,
      "outputs": [
        {
          "output_type": "stream",
          "text": [
            "hello, Taís !\n"
          ],
          "name": "stdout"
        }
      ]
    },
    {
      "cell_type": "code",
      "metadata": {
        "colab": {
          "base_uri": "https://localhost:8080/"
        },
        "id": "fdrXtLW1EoYS",
        "outputId": "a971497a-c487-4e47-ab80-cbb2c5921a38"
      },
      "source": [
        "print('olá, {}'.format(nome))"
      ],
      "execution_count": null,
      "outputs": [
        {
          "output_type": "stream",
          "text": [
            "olá, Taís\n"
          ],
          "name": "stdout"
        }
      ]
    },
    {
      "cell_type": "code",
      "metadata": {
        "colab": {
          "base_uri": "https://localhost:8080/"
        },
        "id": "r5LMFxEqHFEY",
        "outputId": "5fb994ba-1b0a-4bde-dc9b-88ee80005133"
      },
      "source": [
        "nome = 'Taís'\n",
        "idade = 26\n",
        "IDADE = 27\n",
        "print('o meu nome é {} e eu tenho {} mas ano que vem faço {}'.format (nome, idade, IDADE))"
      ],
      "execution_count": null,
      "outputs": [
        {
          "output_type": "stream",
          "text": [
            "o meu nome é Taís e eu tenho 26 mas ano que vem faço 27\n"
          ],
          "name": "stdout"
        }
      ]
    },
    {
      "cell_type": "code",
      "metadata": {
        "colab": {
          "base_uri": "https://localhost:8080/"
        },
        "id": "4LKXMyRoIndB",
        "outputId": "306de142-c69b-46f8-f652-67c80e1049de"
      },
      "source": [
        "3+3"
      ],
      "execution_count": null,
      "outputs": [
        {
          "output_type": "execute_result",
          "data": {
            "text/plain": [
              "6"
            ]
          },
          "metadata": {
            "tags": []
          },
          "execution_count": 23
        }
      ]
    },
    {
      "cell_type": "code",
      "metadata": {
        "colab": {
          "base_uri": "https://localhost:8080/"
        },
        "id": "7nfguf0iKp16",
        "outputId": "8967e099-a3cb-4a75-c0f5-d05ae083578e"
      },
      "source": [
        "n1=5\n",
        "n2 = 10\n",
        "n3 = 20\n",
        "n1 - n2 - n3\n"
      ],
      "execution_count": null,
      "outputs": [
        {
          "output_type": "execute_result",
          "data": {
            "text/plain": [
              "-25"
            ]
          },
          "metadata": {
            "tags": []
          },
          "execution_count": 27
        }
      ]
    },
    {
      "cell_type": "code",
      "metadata": {
        "colab": {
          "base_uri": "https://localhost:8080/"
        },
        "id": "Hgy5XhnWMVZQ",
        "outputId": "02b22221-7e72-40d5-e8ac-e0b34efff157"
      },
      "source": [
        "n1 = float(input('Numero 1:'))\n",
        "n2 = float(input('Numero 2:'))\n",
        "soma = n1 + n2\n",
        "print('a soma entre {} e {} é: {}'.format(n1, n2, soma))"
      ],
      "execution_count": null,
      "outputs": [
        {
          "output_type": "stream",
          "text": [
            "Numero 1:4.2\n",
            "Numero 2:6.5\n",
            "a soma entre 4.2 e 6.5 é: 10.7\n"
          ],
          "name": "stdout"
        }
      ]
    },
    {
      "cell_type": "code",
      "metadata": {
        "id": "letxXdUBOdWg"
      },
      "source": [
        "n1 = int (input ('digite um número: '))\n",
        "antecessor = n1 -1\n",
        "sucessor = n1 + 1\n",
        "\n",
        "print('o antecessor ')\n"
      ],
      "execution_count": null,
      "outputs": []
    },
    {
      "cell_type": "code",
      "metadata": {
        "colab": {
          "base_uri": "https://localhost:8080/"
        },
        "id": "hOOWT6n6PM_x",
        "outputId": "ae7c9b5d-a56c-4752-a6dd-6630115525e0"
      },
      "source": [
        "x = float (input ('altura'))\n",
        "y = float (input ('largura'))\n",
        "area = x * y\n",
        "tinta = area / 2\n",
        "\n",
        "print ('area será de {} m² e a quantidade de tinta é {} litros'.format(area, tinta))"
      ],
      "execution_count": null,
      "outputs": [
        {
          "output_type": "stream",
          "text": [
            "altura5\n",
            "largura3\n",
            "area será de 15.0 m² e a quantidade de tinta é 7.5 litros\n"
          ],
          "name": "stdout"
        }
      ]
    },
    {
      "cell_type": "code",
      "metadata": {
        "colab": {
          "base_uri": "https://localhost:8080/"
        },
        "id": "L-4AenKkRCUc",
        "outputId": "4bbd2542-64f8-4669-9e8c-fead4f560bf3"
      },
      "source": [
        "km = float(input ('km'))\n",
        "dias = int(input ('dias'))\n",
        "preco = (km * 0.2) + (dias * 80) \n",
        "\n",
        "print('o preço a pagar é de {}'.format(preco))"
      ],
      "execution_count": null,
      "outputs": [
        {
          "output_type": "stream",
          "text": [
            "km100.00\n",
            "dias5\n",
            "o preço a pagar é de 420.0\n"
          ],
          "name": "stdout"
        }
      ]
    },
    {
      "cell_type": "markdown",
      "metadata": {
        "id": "wGANWArxruIH"
      },
      "source": [
        "##Utilizando módulos\n",
        "Até o momento, nós aprendemos como fazer as operações básicas com Python, mas agora podemos começar a aprender a usar módulos/bibliotecas para conseguir ir além!\n",
        "\n",
        "Uma biblioteca é um conjunto de módulos.\n",
        "Módulos são programas feitos para serem reaproveitados em outros programas.\n",
        "Há diversos módulos do Python que fazem parte da biblioteca padrão.\n",
        "Se eu precisar de algumas funcionalidades que as funções básicas não estão conseguindo realizar na aplicação que estou construindo, eu preciso importar algumas funcionalidades de fora!\n",
        "\n",
        "Exemplo de biblioteca padrão do Python: math\n",
        "\n",
        "math: fornece acesso às funções matemáticas\n",
        "\n",
        "Algumas funcionalidades:\n",
        "\n",
        "ceil: arredonda o valor para cima\n",
        "\n",
        "floor: arredonda o valor para baixo\n",
        "\n",
        "sqrt: Retorna a raiz quadrada\n",
        "\n",
        "pow: potenciação"
      ]
    },
    {
      "cell_type": "code",
      "metadata": {
        "id": "4sh-JnE0uPgP"
      },
      "source": [
        ""
      ],
      "execution_count": null,
      "outputs": []
    },
    {
      "cell_type": "code",
      "metadata": {
        "colab": {
          "base_uri": "https://localhost:8080/"
        },
        "id": "VUkViaJhBlW6",
        "outputId": "0ee7d485-824b-4235-cec3-645304eb185a"
      },
      "source": [
        "import math #importando a lib inteira\n",
        "raiz = math.sqrt(9)\n",
        "print(raiz)"
      ],
      "execution_count": null,
      "outputs": [
        {
          "output_type": "stream",
          "text": [
            "3.0\n"
          ],
          "name": "stdout"
        }
      ]
    },
    {
      "cell_type": "code",
      "metadata": {
        "colab": {
          "base_uri": "https://localhost:8080/"
        },
        "id": "6lVzXvbODtjD",
        "outputId": "7dc74fe4-e4cd-42fd-cfbe-9203160d97b0"
      },
      "source": [
        "from math import sqrt, pow\n",
        "raiz = sqrt(9)\n",
        "print(raiz)"
      ],
      "execution_count": null,
      "outputs": [
        {
          "output_type": "stream",
          "text": [
            "3.0\n"
          ],
          "name": "stdout"
        }
      ]
    },
    {
      "cell_type": "code",
      "metadata": {
        "colab": {
          "base_uri": "https://localhost:8080/"
        },
        "id": "rc4vTuR4FhLR",
        "outputId": "23571307-b56e-4335-94ac-8c8c41027e06"
      },
      "source": [
        "number = float (input('digite um número'))\n",
        "raiz = sqrt(number)\n",
        "potencia = pow(number, 2)\n",
        "print('a raiz quadrada de {} é {} e ao elevarmos por 2, o resultado é'.format(number, raiz, potencia))"
      ],
      "execution_count": null,
      "outputs": [
        {
          "output_type": "stream",
          "text": [
            "digite um número2\n",
            "a raiz quadrada de 2.0 é 1.4142135623730951 e ao elevarmos por 2, o resultado é\n"
          ],
          "name": "stdout"
        }
      ]
    },
    {
      "cell_type": "code",
      "metadata": {
        "id": "H8RvKALQGR72"
      },
      "source": [
        ""
      ],
      "execution_count": null,
      "outputs": []
    },
    {
      "cell_type": "markdown",
      "metadata": {
        "id": "ThtNcBEPHWMl"
      },
      "source": [
        "Exercício: Faça um programa que ajude a professora a escolher quem sera a primeira aluna a apresentar seu trabalho"
      ]
    },
    {
      "cell_type": "code",
      "metadata": {
        "colab": {
          "base_uri": "https://localhost:8080/"
        },
        "id": "NxBHp_EGHh2C",
        "outputId": "01fa0019-3d73-44e2-bd89-f37b49c18078"
      },
      "source": [
        "import random\n",
        "\n",
        "aluna1 = str(input('primeira aluna:'))\n",
        "aluna2 = str(input('segunda aluna:'))\n",
        "aluna3 = str(input('terceira aluna:'))\n",
        "aluna4 = str(input('quarta aluna:'))\n",
        "\n",
        "lista_alunas = [aluna1, aluna2, aluna3, aluna4]\n",
        "\n",
        "escolhida = random.choice(lista_alunas)\n",
        "\n",
        "print('a aluna escolhida foi {}'.format(escolhida))"
      ],
      "execution_count": null,
      "outputs": [
        {
          "output_type": "stream",
          "text": [
            "primeira aluna:Karen\n",
            "segunda aluna:Chloe\n",
            "terceira aluna:Taís\n",
            "quarta aluna:bernardo\n",
            "a aluna escolhida foiChloe\n"
          ],
          "name": "stdout"
        }
      ]
    },
    {
      "cell_type": "markdown",
      "metadata": {
        "id": "5-BnmYHuKHsZ"
      },
      "source": [
        ""
      ]
    },
    {
      "cell_type": "code",
      "metadata": {
        "colab": {
          "base_uri": "https://localhost:8080/"
        },
        "id": "I8ZCPesmIq7R",
        "outputId": "540a49e5-a2ed-452f-fc1e-3cfd4a6e641c"
      },
      "source": [
        "import random\n",
        "\n",
        "list_alunas = ['mariana', 'sandra', 'joana', 'viviane']\n",
        "\n",
        "escolhida = random.choice(lista_alunas)\n",
        "print('aluna escolhida:{}'.format(escolhida))"
      ],
      "execution_count": null,
      "outputs": [
        {
          "output_type": "stream",
          "text": [
            "aluna escolhida:Taís\n"
          ],
          "name": "stdout"
        }
      ]
    },
    {
      "cell_type": "markdown",
      "metadata": {
        "id": "kXSRUKGSKOE6"
      },
      "source": [
        "### utilizamos listas nos exercicios anteriores, mas o que são listas?\n",
        "\n",
        "lista é uma coleção de elementos (de tamanho dinâmico). Cada elemento possui uma posição dentro de um indice (index). O primeiro elemento fica armazenado no indice 0 e o último elemento no índice (n-1)."
      ]
    },
    {
      "cell_type": "markdown",
      "metadata": {
        "id": "k6VaNe_UK8dE"
      },
      "source": [
        "**criando listas**\n",
        "dentro de [ ]"
      ]
    },
    {
      "cell_type": "code",
      "metadata": {
        "id": "RznBgQzDLPaT"
      },
      "source": [
        "lista_reais = [1, 2, 5, 8.5]   \n",
        "lista_strings = ['java', 'R', 'python', 'javascript']     "
      ],
      "execution_count": null,
      "outputs": []
    },
    {
      "cell_type": "markdown",
      "metadata": {
        "id": "1jXO-KhNOc8g"
      },
      "source": [
        "# Nova seção"
      ]
    },
    {
      "cell_type": "markdown",
      "metadata": {
        "id": "TBWZaBa5Mroi"
      },
      "source": [
        "acessando elementos na lista"
      ]
    },
    {
      "cell_type": "code",
      "metadata": {
        "colab": {
          "base_uri": "https://localhost:8080/",
          "height": 35
        },
        "id": "sddN6GmfMvuS",
        "outputId": "cd65fdbc-6539-439f-8826-12c70ea7bafc"
      },
      "source": [
        "lista_strings[2]"
      ],
      "execution_count": null,
      "outputs": [
        {
          "output_type": "execute_result",
          "data": {
            "application/vnd.google.colaboratory.intrinsic+json": {
              "type": "string"
            },
            "text/plain": [
              "'python'"
            ]
          },
          "metadata": {
            "tags": []
          },
          "execution_count": 12
        }
      ]
    },
    {
      "cell_type": "code",
      "metadata": {
        "colab": {
          "base_uri": "https://localhost:8080/"
        },
        "id": "6IZo5STqM5yl",
        "outputId": "b2928478-4187-4787-8ee5-ab45c5814d34"
      },
      "source": [
        "lista_strings [2:4]"
      ],
      "execution_count": null,
      "outputs": [
        {
          "output_type": "execute_result",
          "data": {
            "text/plain": [
              "['python', 'javascript']"
            ]
          },
          "metadata": {
            "tags": []
          },
          "execution_count": 13
        }
      ]
    },
    {
      "cell_type": "code",
      "metadata": {
        "colab": {
          "base_uri": "https://localhost:8080/"
        },
        "id": "wekcAQLTNQNV",
        "outputId": "a1e076af-5770-46ef-f76d-ffa7b4b1d9eb"
      },
      "source": [
        "lista_strings[1:]"
      ],
      "execution_count": null,
      "outputs": [
        {
          "output_type": "execute_result",
          "data": {
            "text/plain": [
              "['R', 'python', 'javascript']"
            ]
          },
          "metadata": {
            "tags": []
          },
          "execution_count": 17
        }
      ]
    },
    {
      "cell_type": "code",
      "metadata": {
        "colab": {
          "base_uri": "https://localhost:8080/"
        },
        "id": "tf0X57IUNoYF",
        "outputId": "5f61002a-c80a-4300-d803-ffe42d0673af"
      },
      "source": [
        "lista_strings[ :3]"
      ],
      "execution_count": null,
      "outputs": [
        {
          "output_type": "execute_result",
          "data": {
            "text/plain": [
              "['java', 'R', 'python']"
            ]
          },
          "metadata": {
            "tags": []
          },
          "execution_count": 18
        }
      ]
    },
    {
      "cell_type": "markdown",
      "metadata": {
        "id": "hxWaU_uAOjYi"
      },
      "source": [
        "**Como atribuir novos elementos a lista**"
      ]
    },
    {
      "cell_type": "code",
      "metadata": {
        "colab": {
          "base_uri": "https://localhost:8080/"
        },
        "id": "iT53OShyOnLy",
        "outputId": "582e9094-ad38-4fe6-b841-d75a4479d2f4"
      },
      "source": [
        "lista_strings"
      ],
      "execution_count": null,
      "outputs": [
        {
          "output_type": "execute_result",
          "data": {
            "text/plain": [
              "['java', 'R', 'python', 'javascript']"
            ]
          },
          "metadata": {
            "tags": []
          },
          "execution_count": 19
        }
      ]
    },
    {
      "cell_type": "code",
      "metadata": {
        "colab": {
          "base_uri": "https://localhost:8080/"
        },
        "id": "aZOsy8KvO1BH",
        "outputId": "bc39318a-2595-4dbd-b607-f477e72c9c89"
      },
      "source": [
        "#substituindo java por C++\n",
        "lista_strings[0] = 'C++'\n",
        "lista_strings"
      ],
      "execution_count": null,
      "outputs": [
        {
          "output_type": "execute_result",
          "data": {
            "text/plain": [
              "['C++', 'R', 'python', 'javascript']"
            ]
          },
          "metadata": {
            "tags": []
          },
          "execution_count": 22
        }
      ]
    },
    {
      "cell_type": "code",
      "metadata": {
        "id": "FNjxyXi5Qri1"
      },
      "source": [
        ""
      ],
      "execution_count": null,
      "outputs": []
    },
    {
      "cell_type": "markdown",
      "metadata": {
        "id": "GZxwyAjiPO81"
      },
      "source": [
        "- len(lista) (quantos elementos tem em uma lista)\n",
        "- max(lista) maior elemento da lista\n",
        "- min(lista)\n",
        "- sum(lista) soma de todos os elementos da lista\n",
        "- append\n",
        "- clear extend\n",
        "- copy\n",
        "- count\n",
        "- index\n",
        "- insert\n",
        "- pop\n",
        "- remove\n",
        "- reverse\n",
        "- sort\n",
        "\n"
      ]
    },
    {
      "cell_type": "code",
      "metadata": {
        "id": "w5LbWNrHPzRa"
      },
      "source": [
        "lista_gatos = ['srd', 'siames', 'persa']"
      ],
      "execution_count": null,
      "outputs": []
    },
    {
      "cell_type": "code",
      "metadata": {
        "id": "yEuyl6JmQeU9"
      },
      "source": [
        "lista_gatos.append('sphynx')"
      ],
      "execution_count": null,
      "outputs": []
    },
    {
      "cell_type": "code",
      "metadata": {
        "colab": {
          "base_uri": "https://localhost:8080/"
        },
        "id": "vQjDsYJGQl1o",
        "outputId": "309ced5e-ff68-4ab5-9cf2-62dd031133eb"
      },
      "source": [
        "lista_gatos"
      ],
      "execution_count": null,
      "outputs": [
        {
          "output_type": "execute_result",
          "data": {
            "text/plain": [
              "['srd', 'siames', 'persa', 'sphynx']"
            ]
          },
          "metadata": {
            "tags": []
          },
          "execution_count": 25
        }
      ]
    },
    {
      "cell_type": "code",
      "metadata": {
        "colab": {
          "base_uri": "https://localhost:8080/"
        },
        "id": "4jz2FYNoQswd",
        "outputId": "9560f173-164a-401d-c35f-7f2f5672ab62"
      },
      "source": [
        "len(lista_gatos)"
      ],
      "execution_count": null,
      "outputs": [
        {
          "output_type": "execute_result",
          "data": {
            "text/plain": [
              "4"
            ]
          },
          "metadata": {
            "tags": []
          },
          "execution_count": 26
        }
      ]
    },
    {
      "cell_type": "code",
      "metadata": {
        "colab": {
          "base_uri": "https://localhost:8080/"
        },
        "id": "JV-BUAZAQzqj",
        "outputId": "28205689-aa0b-4540-bf5e-6aeeea3fe94e"
      },
      "source": [
        "lista_gatos.insert(0, 'himalaia')\n",
        "print(lista_gatos)"
      ],
      "execution_count": null,
      "outputs": [
        {
          "output_type": "stream",
          "text": [
            "['himalaia', 'himalaia', 'himalaia', 'srd', 'siames', 'persa', 'sphynx']\n"
          ],
          "name": "stdout"
        }
      ]
    },
    {
      "cell_type": "markdown",
      "metadata": {
        "id": "DI18AG2yRs0b"
      },
      "source": [
        ""
      ]
    },
    {
      "cell_type": "code",
      "metadata": {
        "colab": {
          "base_uri": "https://localhost:8080/"
        },
        "id": "q1Owk0fwRdyf",
        "outputId": "d6c09e87-850b-4312-cc13-eb7ae5a25210"
      },
      "source": [
        "lista_gatos.pop(1)\n",
        "lista_gatos"
      ],
      "execution_count": null,
      "outputs": [
        {
          "output_type": "execute_result",
          "data": {
            "text/plain": [
              "['himalaia', 'himalaia', 'srd', 'siames', 'persa', 'sphynx']"
            ]
          },
          "metadata": {
            "tags": []
          },
          "execution_count": 30
        }
      ]
    },
    {
      "cell_type": "markdown",
      "metadata": {
        "id": "6wc80EK_RvGN"
      },
      "source": [
        "###Desafio\n",
        "1. crie uma lista contendo os seguintes nomes de filmes: As Branqulas, Vovózona, Meninas Malvada. armazene uma lista na variavel **filmes**\n",
        "2. adicione o filme zumbilândia no final da lista de filmes\n",
        "3. substitua o filme vovózona or divertidamente"
      ]
    },
    {
      "cell_type": "code",
      "metadata": {
        "id": "AIzNBGJdSHzl"
      },
      "source": [
        "filmes = ['as branquelas', 'vovózona', 'meninas malvadas']"
      ],
      "execution_count": null,
      "outputs": []
    },
    {
      "cell_type": "code",
      "metadata": {
        "colab": {
          "base_uri": "https://localhost:8080/"
        },
        "id": "E6JrBaiZSSR3",
        "outputId": "cc5d0517-02aa-4d7f-eb0c-c55ebcf1abf3"
      },
      "source": [
        "filmes.append('zumbilândia')\n",
        "filmes"
      ],
      "execution_count": null,
      "outputs": [
        {
          "output_type": "execute_result",
          "data": {
            "text/plain": [
              "['as branquelas', 'vovózona', 'meninas malvadas', 'zumbilândia']"
            ]
          },
          "metadata": {
            "tags": []
          },
          "execution_count": 35
        }
      ]
    },
    {
      "cell_type": "code",
      "metadata": {
        "colab": {
          "base_uri": "https://localhost:8080/"
        },
        "id": "czzrK2gbSqv_",
        "outputId": "4d375095-c859-489f-f3e2-25bf30077580"
      },
      "source": [
        "filmes[1] = 'divertidamente'\n",
        "filmes"
      ],
      "execution_count": null,
      "outputs": [
        {
          "output_type": "execute_result",
          "data": {
            "text/plain": [
              "['as branquelas', 'divertidamente', 'meninas malvadas', 'zumbilândia']"
            ]
          },
          "metadata": {
            "tags": []
          },
          "execution_count": 37
        }
      ]
    },
    {
      "cell_type": "markdown",
      "metadata": {
        "id": "Q3mdRTFbTt_Q"
      },
      "source": [
        "## Tuplas\n",
        "São \"listas\" imutáveis\n",
        "uma vez criada não pode ser alterada\n",
        "são criadas entre parênteses (  )"
      ]
    },
    {
      "cell_type": "code",
      "metadata": {
        "colab": {
          "base_uri": "https://localhost:8080/"
        },
        "id": "S6eJQcNFUBeL",
        "outputId": "f8a7446e-37a2-4a39-862d-f91ac61ab3ba"
      },
      "source": [
        "tupla = (3,19,4,21,3,5)\n",
        "tupla[3]"
      ],
      "execution_count": null,
      "outputs": [
        {
          "output_type": "execute_result",
          "data": {
            "text/plain": [
              "21"
            ]
          },
          "metadata": {
            "tags": []
          },
          "execution_count": 38
        }
      ]
    },
    {
      "cell_type": "markdown",
      "metadata": {
        "id": "1cFQ3pf7UZmN"
      },
      "source": [
        "**converter tupla em lista**"
      ]
    },
    {
      "cell_type": "code",
      "metadata": {
        "colab": {
          "base_uri": "https://localhost:8080/"
        },
        "id": "XoE4eVPCUcvK",
        "outputId": "5191a516-9689-4d0c-9745-a4067a85be21"
      },
      "source": [
        "nova_list = list(tupla)\n",
        "nova_list"
      ],
      "execution_count": null,
      "outputs": [
        {
          "output_type": "execute_result",
          "data": {
            "text/plain": [
              "[3, 19, 4, 21, 3, 5]"
            ]
          },
          "metadata": {
            "tags": []
          },
          "execution_count": 40
        }
      ]
    },
    {
      "cell_type": "markdown",
      "metadata": {
        "id": "SLJCnUtuUoxA"
      },
      "source": [
        "##Dicionários\n",
        "- coleção de elementos com uma *chave* e um valor\n",
        "- ao inves de um índice, usamos a *chave* para recuperar um *valor*\n",
        "\n",
        "assim, o principal propósito de um dicionário é associar um valor (value) a uma chave (key)"
      ]
    },
    {
      "cell_type": "code",
      "metadata": {
        "id": "9BrwD0LAVFiv"
      },
      "source": [
        "#chave será a siga do estado e o valor é o nome do estado\n",
        "dic_estados = {'MG': 'Minas Gerais','PR': \"Paran\", 'BA': 'Bahia', 'RN': 'Rio Grande do Norte'}"
      ],
      "execution_count": null,
      "outputs": []
    },
    {
      "cell_type": "code",
      "metadata": {
        "colab": {
          "base_uri": "https://localhost:8080/"
        },
        "id": "sQoCHCYJVif6",
        "outputId": "05e2e37e-da52-42dd-f8dd-7c3a60d02464"
      },
      "source": [
        "dic_estados"
      ],
      "execution_count": null,
      "outputs": [
        {
          "output_type": "execute_result",
          "data": {
            "text/plain": [
              "{'BA': 'Bahia',\n",
              " 'MG': 'Minas Gerais',\n",
              " 'PR': 'Paran',\n",
              " 'RN': 'Rio Grande do Norte'}"
            ]
          },
          "metadata": {
            "tags": []
          },
          "execution_count": 47
        }
      ]
    },
    {
      "cell_type": "code",
      "metadata": {
        "id": "GqqbKWffWDVy"
      },
      "source": [
        "#dicionario também permite criar listas dentro dos valores"
      ],
      "execution_count": null,
      "outputs": []
    },
    {
      "cell_type": "code",
      "metadata": {
        "id": "4EOFXgJ5WRm3",
        "colab": {
          "base_uri": "https://localhost:8080/",
          "height": 129
        },
        "outputId": "9ffa507e-2af9-4a69-f7fd-4d7687407822"
      },
      "source": [
        "dic_notas_alunos = {'joao' : [6,7,8], 'Maria' : [10,9,8]}\n",
        "dic_notas_alunos2 = {'joao' : ['nota1': 6, 'nota2': 8]}"
      ],
      "execution_count": null,
      "outputs": [
        {
          "output_type": "error",
          "ename": "SyntaxError",
          "evalue": "ignored",
          "traceback": [
            "\u001b[0;36m  File \u001b[0;32m\"<ipython-input-3-3ca992d2689c>\"\u001b[0;36m, line \u001b[0;32m2\u001b[0m\n\u001b[0;31m    dic_notas_alunos2 = {'joao' : ['nota1': 6, 'nota2': 8]}\u001b[0m\n\u001b[0m                                          ^\u001b[0m\n\u001b[0;31mSyntaxError\u001b[0m\u001b[0;31m:\u001b[0m invalid syntax\n"
          ]
        }
      ]
    },
    {
      "cell_type": "code",
      "metadata": {
        "colab": {
          "base_uri": "https://localhost:8080/",
          "height": 35
        },
        "id": "PmRgoCGJXfEe",
        "outputId": "570463a3-6301-4be3-87cb-f5f00140baaf"
      },
      "source": [
        "dic_estados['MG']"
      ],
      "execution_count": null,
      "outputs": [
        {
          "output_type": "execute_result",
          "data": {
            "application/vnd.google.colaboratory.intrinsic+json": {
              "type": "string"
            },
            "text/plain": [
              "'Minas Gerais'"
            ]
          },
          "metadata": {
            "tags": []
          },
          "execution_count": 48
        }
      ]
    },
    {
      "cell_type": "code",
      "metadata": {
        "colab": {
          "base_uri": "https://localhost:8080/",
          "height": 163
        },
        "id": "nXZB1br6YMs4",
        "outputId": "f90fcc86-fbd1-470a-df28-26f4f2f90266"
      },
      "source": [
        "dic_notas_alunos2 = ['joao'] ['nota1']"
      ],
      "execution_count": null,
      "outputs": [
        {
          "output_type": "error",
          "ename": "TypeError",
          "evalue": "ignored",
          "traceback": [
            "\u001b[0;31m---------------------------------------------------------------------------\u001b[0m",
            "\u001b[0;31mTypeError\u001b[0m                                 Traceback (most recent call last)",
            "\u001b[0;32m<ipython-input-2-9239c4c42a54>\u001b[0m in \u001b[0;36m<module>\u001b[0;34m()\u001b[0m\n\u001b[0;32m----> 1\u001b[0;31m \u001b[0mdic_notas_alunos2\u001b[0m \u001b[0;34m=\u001b[0m \u001b[0;34m[\u001b[0m\u001b[0;34m'joao'\u001b[0m\u001b[0;34m]\u001b[0m \u001b[0;34m[\u001b[0m\u001b[0;34m'nota1'\u001b[0m\u001b[0;34m]\u001b[0m\u001b[0;34m\u001b[0m\u001b[0;34m\u001b[0m\u001b[0m\n\u001b[0m",
            "\u001b[0;31mTypeError\u001b[0m: list indices must be integers or slices, not str"
          ]
        }
      ]
    },
    {
      "cell_type": "code",
      "metadata": {
        "id": "4ip1iQ5YYniX"
      },
      "source": [
        ""
      ],
      "execution_count": null,
      "outputs": []
    },
    {
      "cell_type": "markdown",
      "metadata": {
        "id": "YUKA2-eTYpJ7"
      },
      "source": [
        ""
      ]
    },
    {
      "cell_type": "code",
      "metadata": {
        "id": "x1QOK0vDYyEH"
      },
      "source": [
        "filmes_dic = {'as branquelas' : 2004 , 'vovózona' : 2000 , 'meninas malvadas':2004}\n",
        "filmes_dic2 = { 'divertidamente' : 2015 , 'o show de truman' : 1998}"
      ],
      "execution_count": null,
      "outputs": []
    },
    {
      "cell_type": "code",
      "metadata": {
        "colab": {
          "base_uri": "https://localhost:8080/"
        },
        "id": "iIqb_B-gZuca",
        "outputId": "4332ec9a-f463-4a40-ff40-f3d06fa172cf"
      },
      "source": [
        "filmes_dic"
      ],
      "execution_count": null,
      "outputs": [
        {
          "output_type": "execute_result",
          "data": {
            "text/plain": [
              "{'as branquelas': 2004, 'meninas malvadas': 2004, 'vovózona': 2000}"
            ]
          },
          "metadata": {
            "tags": []
          },
          "execution_count": 56
        }
      ]
    },
    {
      "cell_type": "code",
      "metadata": {
        "colab": {
          "base_uri": "https://localhost:8080/"
        },
        "id": "pfEUMR-HaGlI",
        "outputId": "db771c93-20ee-4197-f26d-a1a456c7e80b"
      },
      "source": [
        "filmes_dic2"
      ],
      "execution_count": null,
      "outputs": [
        {
          "output_type": "execute_result",
          "data": {
            "text/plain": [
              "{'divertidamente': 2015, 'o show de truman': 1998}"
            ]
          },
          "metadata": {
            "tags": []
          },
          "execution_count": 57
        }
      ]
    },
    {
      "cell_type": "code",
      "metadata": {
        "colab": {
          "base_uri": "https://localhost:8080/"
        },
        "id": "fn_I5mS3aJea",
        "outputId": "381d35d6-27fd-40e1-a6d7-b51347654737"
      },
      "source": [
        "filmes_dic.update(filmes_dic2)\n",
        "filmes_dic"
      ],
      "execution_count": null,
      "outputs": [
        {
          "output_type": "execute_result",
          "data": {
            "text/plain": [
              "{'as branquelas': 2004,\n",
              " 'divertidamente': 2015,\n",
              " 'meninas malvadas': 2004,\n",
              " 'o show de truman': 1998,\n",
              " 'vovózona': 2000}"
            ]
          },
          "metadata": {
            "tags": []
          },
          "execution_count": 59
        }
      ]
    },
    {
      "cell_type": "code",
      "metadata": {
        "colab": {
          "base_uri": "https://localhost:8080/"
        },
        "id": "m1WdZ-Q7aYf-",
        "outputId": "655940eb-2dcb-4053-f33d-43613e7d8766"
      },
      "source": [
        "filmes_dic['meninas malvadas']"
      ],
      "execution_count": null,
      "outputs": [
        {
          "output_type": "execute_result",
          "data": {
            "text/plain": [
              "2004"
            ]
          },
          "metadata": {
            "tags": []
          },
          "execution_count": 62
        }
      ]
    },
    {
      "cell_type": "markdown",
      "metadata": {
        "id": "rUJ3faTXbLee"
      },
      "source": [
        "Chaves não podem ser iguais se não ele exclui um dos valores"
      ]
    }
  ]
}