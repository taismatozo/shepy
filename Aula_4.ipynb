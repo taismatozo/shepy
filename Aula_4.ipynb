{
  "nbformat": 4,
  "nbformat_minor": 0,
  "metadata": {
    "colab": {
      "name": "Aula 4.ipynb",
      "provenance": [],
      "authorship_tag": "ABX9TyN39p412jhwisGP1oN8CUTZ",
      "include_colab_link": true
    },
    "kernelspec": {
      "name": "python3",
      "display_name": "Python 3"
    },
    "language_info": {
      "name": "python"
    }
  },
  "cells": [
    {
      "cell_type": "markdown",
      "metadata": {
        "id": "view-in-github",
        "colab_type": "text"
      },
      "source": [
        "<a href=\"https://colab.research.google.com/github/taismatozo/shepy/blob/main/Aula_4.ipynb\" target=\"_parent\"><img src=\"https://colab.research.google.com/assets/colab-badge.svg\" alt=\"Open In Colab\"/></a>"
      ]
    },
    {
      "cell_type": "markdown",
      "metadata": {
        "id": "oJvXwVDeQZsY"
      },
      "source": [
        "#NumPY - numerical python\n",
        "\n",
        "NumPY é um poderosa biblioteca que suporta arrays (parecidos com listas, mas tem tamanho fixo no momento em que é inicializado) e matrizes muito importante para o processamento númerico em python. Esses calculos numéricos são amplamente utilizadas em tarefas como: modelos de machine learning, visão computacional e tarefas matemáticas\n",
        "\n",
        "alguns recursos do Numpy:\n",
        "\n",
        "###ndarray\n",
        "um array multidimensional que oferece operações rápidas. sem necessidades de codas laços.\n"
      ]
    },
    {
      "cell_type": "code",
      "metadata": {
        "id": "Zrqe7M4BRrId"
      },
      "source": [
        ""
      ],
      "execution_count": null,
      "outputs": []
    },
    {
      "cell_type": "markdown",
      "metadata": {
        "id": "2hlNP50ESEXJ"
      },
      "source": [
        "###criando arrays com Numpy\n",
        "```\n",
        "\n"
      ]
    },
    {
      "cell_type": "code",
      "metadata": {
        "id": "gj3JH8FnSJk8"
      },
      "source": [
        "import numpy as np"
      ],
      "execution_count": 4,
      "outputs": []
    },
    {
      "cell_type": "code",
      "metadata": {
        "id": "mfdT-JmISasH"
      },
      "source": [
        "# criando um array a partir de uma lista\n",
        "mylist = [1, 2, 3]\n",
        "myarray = np.array(mylist)\n",
        "myarray"
      ],
      "execution_count": null,
      "outputs": []
    },
    {
      "cell_type": "code",
      "metadata": {
        "id": "MQ73orRxSyIW"
      },
      "source": [
        "myarray = np.array([1, 2, 3, 4])\n",
        "myarray"
      ],
      "execution_count": null,
      "outputs": []
    },
    {
      "cell_type": "code",
      "metadata": {
        "id": "PvCVo6fUTBhu"
      },
      "source": [
        "# criando um array com arange, sendo o intervalo de 0 a 10\n",
        "ald = np.arange(0, 10)\n",
        "ald"
      ],
      "execution_count": null,
      "outputs": []
    },
    {
      "cell_type": "code",
      "metadata": {
        "id": "wEfjzr7oTWx2"
      },
      "source": [
        "#criando um array de zeros.\n",
        "zeros = np.zeros(5)\n",
        "zeros"
      ],
      "execution_count": null,
      "outputs": []
    },
    {
      "cell_type": "markdown",
      "metadata": {
        "id": "nSgAhY7PUDzt"
      },
      "source": [
        "### array 2 dimensões"
      ]
    },
    {
      "cell_type": "code",
      "metadata": {
        "colab": {
          "base_uri": "https://localhost:8080/"
        },
        "id": "MqPLCw0RUGQf",
        "outputId": "5f09b07a-776e-4f49-ea00-505f6a03ff02"
      },
      "source": [
        "a2d = np.array([[1,2, 3], [4, 5, 6], [7, 8 ,9]])\n",
        "a2d"
      ],
      "execution_count": 5,
      "outputs": [
        {
          "output_type": "execute_result",
          "data": {
            "text/plain": [
              "array([[1, 2, 3],\n",
              "       [4, 5, 6],\n",
              "       [7, 8, 9]])"
            ]
          },
          "metadata": {
            "tags": []
          },
          "execution_count": 5
        }
      ]
    },
    {
      "cell_type": "code",
      "metadata": {
        "id": "a4WMXTW4Un0I"
      },
      "source": [
        "zeros2d = np.zeros(shape=(3,4)) #3 linhas e 4 colunas\n",
        "zeros2d"
      ],
      "execution_count": null,
      "outputs": []
    },
    {
      "cell_type": "code",
      "metadata": {
        "id": "JZk1pkAMVkxz"
      },
      "source": [
        "###array de 3 dimensões\n"
      ],
      "execution_count": null,
      "outputs": []
    },
    {
      "cell_type": "code",
      "metadata": {
        "colab": {
          "base_uri": "https://localhost:8080/"
        },
        "id": "2-FNSHVGWYZI",
        "outputId": "e50bc092-b5b9-4d3d-8415-371b9dbb09bf"
      },
      "source": [
        "a3D = np.array( [ [ [1,2,3], [4,5,6], [7,8,9] ], \n",
        "                 [ [11,12,13], [14,15,16], [17,18,19] ], \n",
        "                 [ [21,22,23], [24,25,26], [27,28,29] ]])\n",
        "a3D"
      ],
      "execution_count": 6,
      "outputs": [
        {
          "output_type": "execute_result",
          "data": {
            "text/plain": [
              "array([[[ 1,  2,  3],\n",
              "        [ 4,  5,  6],\n",
              "        [ 7,  8,  9]],\n",
              "\n",
              "       [[11, 12, 13],\n",
              "        [14, 15, 16],\n",
              "        [17, 18, 19]],\n",
              "\n",
              "       [[21, 22, 23],\n",
              "        [24, 25, 26],\n",
              "        [27, 28, 29]]])"
            ]
          },
          "metadata": {
            "tags": []
          },
          "execution_count": 6
        }
      ]
    },
    {
      "cell_type": "code",
      "metadata": {
        "id": "rlino4WmW63U"
      },
      "source": [
        "zeros3d = np.zeros(shape=(3, 4,2))\n",
        "zeros3d"
      ],
      "execution_count": null,
      "outputs": []
    },
    {
      "cell_type": "code",
      "metadata": {
        "id": "w8b9FQrqXEKc"
      },
      "source": [
        ""
      ],
      "execution_count": null,
      "outputs": []
    },
    {
      "cell_type": "markdown",
      "metadata": {
        "id": "r8lnoAMhXE-k"
      },
      "source": [
        "##Comparação de performance do numpy"
      ]
    },
    {
      "cell_type": "code",
      "metadata": {
        "id": "ar5HKCB_XKmv"
      },
      "source": [
        "idades = np.random.randint(25, 50, size=1000)\n",
        "len(idades)"
      ],
      "execution_count": null,
      "outputs": []
    },
    {
      "cell_type": "code",
      "metadata": {
        "id": "DfwWvW0JXcTa"
      },
      "source": [
        "%timeit sum(idades)"
      ],
      "execution_count": null,
      "outputs": []
    },
    {
      "cell_type": "code",
      "metadata": {
        "id": "Bk3V_kFpXvY-"
      },
      "source": [
        "%timeit np.sum(idades)"
      ],
      "execution_count": null,
      "outputs": []
    },
    {
      "cell_type": "code",
      "metadata": {
        "id": "kWsDNPGrYAoy"
      },
      "source": [
        ""
      ],
      "execution_count": null,
      "outputs": []
    },
    {
      "cell_type": "markdown",
      "metadata": {
        "id": "b9hA9jJ2ZSlN"
      },
      "source": [
        "#Intro estatística\n",
        "\n",
        "*População e amostra*\n",
        "\n",
        "Uma população é um conjunto de pessoas, itens ou eventos sobre os quais você quer fazer inferências. Uma amostra é um subconjunto de uma população que se analisa para fazer inferências.\n",
        "\n",
        "**Tipos de Dados**\n",
        "\n",
        "**Qualitativos**: Consistem em atributos, qualidades, características.\n",
        "\n",
        "**Nominais**: Esses dados representam nomes, rótulos ou categorias que não têm ordem ou hierarquia.\n",
        "Ordinais: Esses dados mantêm uma relação de ordem.\n",
        "\n",
        "**Quantitativos**: Consistem em medidas ou contagens numéricas.\n",
        "\n",
        "**Discretos**: Resultam de um conjunto finito ou enumerável de valores possíveis (Contagens)\n",
        "\n",
        "**Contínuos:** Resultam em um número infinito de valores possíveis (Mensurações)\n",
        "##Medidas de tendência central\n",
        "\n",
        "As medidas de tendência central mostram o valor representativo em torno do qual os dados tendem a agrupar-se, dão o ponto central em torno do qual os dados se distribuem.​\n",
        "\n",
        "**Média:**\n",
        "A média de uma amostra é denotada por x barra e a média de uma população é denotada por µ. Para calcular a média de um conjunto de valores é necessário somar todos os valores obtidos e dividir por n (que representa o tamanho da amostra).​\n",
        "\n",
        "**Mediana:**\n",
        "É o valor que divide o conjunto de dados ao meio, deixando os 50% menores valores de um lado e os 50% maiores valores do outro lado. Para calcular a mediana é necessário que o conjunto de dados esteja organizado em ordem crescente. Se n é ímpar, a mediana é dada pelo valor que ocupa a posição central. Se n é par, a mediana será a média dos valores que ocupam as posições centrais.​\n",
        "\n",
        "**Moda:** \n",
        "Dado um conjunto de valores, a Moda desses valores será aquele que se repetir o maior número de vezes.\n",
        "Medidas de dispersão/variabilidade\n",
        "As medidas de dispersão mostram o grau de afastamento dos valores observados em relação ao ponto central da distribuição dos dados.\n",
        "\n",
        "**Amplitude:** É definida como sendo a diferença entre o maior e o menor valor do conjunto de dados.\n",
        "\n",
        "**Variância e desvio padrão:** A variância e o desvio padrão medem a variação do conjunto de dados em torno da média. É possível perceber que a unidade de medida da variância equivale à unidade de medida dos dados ao quadrado. Dessa maneira, é mais comum trabalharmos com a raiz quadrada da variância, ou seja, com o desvio padrão.\n",
        "\n",
        "\n",
        "##Medidas de posição relativa\n",
        "As medidas de posição relativa mostram pontos de corte na distribuição relativa dos dados da amostra.\n",
        "\n",
        "Quartis: Assim como a mediana divide os dados em duas partes iguais, os três quartis, denotados por Q1, Q2 e Q3, dividem as observações ordenadas (dispostas em ordem crescente) em quatro partes aproximadamente iguais, ou seja, há cerca de 25% dos dados em cada grupo.\n",
        "\n",
        "Decis: Analogamente, há nove decis, denotados por D1, D2, D3, ..., D9, que dividem os dados em 10 grupos com cerca de 10% dos dados em cada grupo.\n",
        "\n",
        "Percentis: Há, finalmente, 99 percentis, que dividem os dados em 100 grupos com cerca de 1% dos dados em cada grupo.\n",
        "\n",
        "\n",
        "\n",
        "\n"
      ]
    },
    {
      "cell_type": "code",
      "metadata": {
        "id": "ZEjyBWFXfBCF"
      },
      "source": [
        ""
      ],
      "execution_count": null,
      "outputs": []
    }
  ]
}